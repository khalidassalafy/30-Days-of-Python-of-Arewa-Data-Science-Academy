{
 "cells": [
  {
   "cell_type": "markdown",
   "id": "cc3d5075",
   "metadata": {},
   "source": [
    "# Day 25"
   ]
  },
  {
   "cell_type": "markdown",
   "id": "95537296",
   "metadata": {},
   "source": [
    "#### Excercises"
   ]
  },
  {
   "cell_type": "code",
   "execution_count": 4,
   "id": "6d389ba9",
   "metadata": {},
   "outputs": [
    {
     "name": "stdout",
     "output_type": "stream",
     "text": [
      "         id                                              title  \\\n",
      "0  12224879                          Interactive Dynamic Video   \n",
      "1  11964716  Florida DJs May Face Felony for April Fools' W...   \n",
      "2  11919867       Technology ventures: From Idea to Enterprise   \n",
      "3  10301696  Note by Note: The Making of Steinway L1037 (2007)   \n",
      "4  10482257  Title II kills investment? Comcast and other I...   \n",
      "\n",
      "                                                 url  num_points  \\\n",
      "0            http://www.interactivedynamicvideo.com/         386   \n",
      "1  http://www.thewire.com/entertainment/2013/04/f...           2   \n",
      "2  https://www.amazon.com/Technology-Ventures-Ent...           3   \n",
      "3  http://www.nytimes.com/2007/11/07/movies/07ste...           8   \n",
      "4  http://arstechnica.com/business/2015/10/comcas...          53   \n",
      "\n",
      "   num_comments      author       created_at  \n",
      "0            52    ne0phyte   8/4/2016 11:52  \n",
      "1             1    vezycash  6/23/2016 22:20  \n",
      "2             1     hswarna   6/17/2016 0:01  \n",
      "3             2  walterbell   9/30/2015 4:12  \n",
      "4            22      Deinos  10/31/2015 9:48  \n",
      "             id                                              title  \\\n",
      "20094  12379592  How Purism Avoids Intels Active Management Tec...   \n",
      "20095  10339284          YC Application Translated and Broken Down   \n",
      "20096  10824382  Microkernels are slow and Elvis didn't do no d...   \n",
      "20097  10739875                      How Product Hunt really works   \n",
      "20098  11680777  RoboBrowser: Your friendly neighborhood web sc...   \n",
      "\n",
      "                                                     url  num_points  \\\n",
      "20094  https://puri.sm/philosophy/how-purism-avoids-i...          10   \n",
      "20095  https://medium.com/@zreitano/the-yc-applicatio...           4   \n",
      "20096  http://blog.darknedgy.net/technology/2016/01/0...         169   \n",
      "20097  https://medium.com/@benjiwheeler/how-product-h...         695   \n",
      "20098              https://github.com/jmcarp/robobrowser         182   \n",
      "\n",
      "       num_comments         author        created_at  \n",
      "20094             6  AdmiralAsshat    8/29/2016 2:22  \n",
      "20095             1       zreitano   10/6/2015 14:57  \n",
      "20096           132    vezzy-fnord     1/2/2016 0:49  \n",
      "20097           222          brw12  12/15/2015 19:32  \n",
      "20098            58      pmoriarty    5/12/2016 1:43  \n"
     ]
    }
   ],
   "source": [
    "'''Read the hacker_news.csv file from data directory\n",
    "Get the first five rows\n",
    "Get the last five rows'''\n",
    "\n",
    "import pandas as pd\n",
    "df = pd.read_csv('hacker_news.csv')\n",
    "\n",
    "#first five rows\n",
    "print(df.head())\n",
    "\n",
    "#Last five rows\n",
    "print(df.tail())"
   ]
  },
  {
   "cell_type": "code",
   "execution_count": 7,
   "id": "00f852da",
   "metadata": {},
   "outputs": [
    {
     "name": "stdout",
     "output_type": "stream",
     "text": [
      "0              id\n",
      "1           title\n",
      "2             url\n",
      "3      num_points\n",
      "4    num_comments\n",
      "5          author\n",
      "6      created_at\n",
      "dtype: object\n"
     ]
    }
   ],
   "source": [
    "# Get the title column as pandas series\n",
    "columns_title = df.columns\n",
    "Columns_title_series = pd.Series(columns_title)\n",
    "print(Columns_title_series)"
   ]
  },
  {
   "cell_type": "code",
   "execution_count": 8,
   "id": "5ea2f5d7",
   "metadata": {},
   "outputs": [
    {
     "name": "stdout",
     "output_type": "stream",
     "text": [
      "(20099, 7)\n"
     ]
    }
   ],
   "source": [
    "# Count the number of rows and columns\n",
    "print(df.shape)"
   ]
  },
  {
   "cell_type": "code",
   "execution_count": 14,
   "id": "bd345672",
   "metadata": {},
   "outputs": [
    {
     "name": "stdout",
     "output_type": "stream",
     "text": [
      "['Interactive Dynamic Video', 'Interactive Dynamic Video', 'Interactive Dynamic Video', 'Interactive Dynamic Video', 'Interactive Dynamic Video']\n"
     ]
    }
   ],
   "source": [
    "# Filter the titles which contain python\n",
    "\n",
    "import pandas as pd\n",
    "df = pd.read_csv('hacker_news.csv')\n",
    "\n",
    "sub_string = 'python'\n",
    "titles = df['title']\n",
    "titles_with_python = [title for title in titles  for sub_string in title.lower()]\n",
    "#print(titles_with_python)\n",
    "print(titles_with_python[:5]) # First five titles"
   ]
  },
  {
   "cell_type": "code",
   "execution_count": 13,
   "id": "c75cc527",
   "metadata": {},
   "outputs": [
    {
     "name": "stdout",
     "output_type": "stream",
     "text": [
      "['Interactive Dynamic Video', 'Interactive Dynamic Video', 'Interactive Dynamic Video', 'Interactive Dynamic Video', 'Interactive Dynamic Video']\n"
     ]
    }
   ],
   "source": [
    "# Filter the titles which contain JavaScript\n",
    "\n",
    "\n",
    "import pandas as pd\n",
    "df = pd.read_csv('hacker_news.csv')\n",
    "\n",
    "sub_string = 'JavaScript'\n",
    "titles_with_JavaScript = [title for title in df['title'] for sub_string in title.lower()]\n",
    "#print(titles_with_python)\n",
    "print(titles_with_JavaScript[:5]) # First five titles"
   ]
  },
  {
   "cell_type": "code",
   "execution_count": 15,
   "id": "e1096678",
   "metadata": {},
   "outputs": [
    {
     "name": "stdout",
     "output_type": "stream",
     "text": [
      "                 id    num_points  num_comments\n",
      "count  2.009900e+04  20099.000000  20099.000000\n",
      "mean   1.131755e+07     50.296632     24.803025\n",
      "std    6.964531e+05    107.110322     56.108639\n",
      "min    1.017691e+07      1.000000      1.000000\n",
      "25%    1.070172e+07      3.000000      1.000000\n",
      "50%    1.128452e+07      9.000000      3.000000\n",
      "75%    1.192613e+07     54.000000     21.000000\n",
      "max    1.257898e+07   2553.000000   1733.000000\n"
     ]
    }
   ],
   "source": [
    "# Explore the data and make sense of it\n",
    "\n",
    "print(df.describe())"
   ]
  },
  {
   "cell_type": "code",
   "execution_count": null,
   "id": "fa77c31d",
   "metadata": {},
   "outputs": [],
   "source": []
  }
 ],
 "metadata": {
  "kernelspec": {
   "display_name": "Python 3 (ipykernel)",
   "language": "python",
   "name": "python3"
  },
  "language_info": {
   "codemirror_mode": {
    "name": "ipython",
    "version": 3
   },
   "file_extension": ".py",
   "mimetype": "text/x-python",
   "name": "python",
   "nbconvert_exporter": "python",
   "pygments_lexer": "ipython3",
   "version": "3.11.2"
  }
 },
 "nbformat": 4,
 "nbformat_minor": 5
}
