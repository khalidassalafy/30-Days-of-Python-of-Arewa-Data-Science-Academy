{
 "cells": [
  {
   "attachments": {},
   "cell_type": "markdown",
   "metadata": {},
   "source": [
    "# Day 17"
   ]
  },
  {
   "attachments": {},
   "cell_type": "markdown",
   "metadata": {},
   "source": [
    "#### Excercise 1"
   ]
  },
  {
   "cell_type": "code",
   "execution_count": 2,
   "metadata": {},
   "outputs": [
    {
     "name": "stdout",
     "output_type": "stream",
     "text": [
      "Nordic countries: ['Finland', 'Sweden', 'Norway', 'Denmark', 'Iceland']\n",
      "es=Estonia\n",
      "ru=Russia\n"
     ]
    }
   ],
   "source": [
    "names = ['Finland', 'Sweden', 'Norway','Denmark','Iceland', 'Estonia','Russia']\n",
    "\n",
    "#Unpack the first five countries and store them in a variable nordic_countries,\n",
    "#  store Estonia and Russia in es, and ru respectively\n",
    "*nordic_countries,es,ru=names\n",
    "print(f'Nordic countries: {nordic_countries}\\nes={es}\\nru={ru}')"
   ]
  }
 ],
 "metadata": {
  "kernelspec": {
   "display_name": "Python 3",
   "language": "python",
   "name": "python3"
  },
  "language_info": {
   "codemirror_mode": {
    "name": "ipython",
    "version": 3
   },
   "file_extension": ".py",
   "mimetype": "text/x-python",
   "name": "python",
   "nbconvert_exporter": "python",
   "pygments_lexer": "ipython3",
   "version": "3.11.1"
  },
  "orig_nbformat": 4,
  "vscode": {
   "interpreter": {
    "hash": "a6c3004ce060ded9e0c076ab48db6d8cf68670c15173d9367e97ef3f186c9ed1"
   }
  }
 },
 "nbformat": 4,
 "nbformat_minor": 2
}
