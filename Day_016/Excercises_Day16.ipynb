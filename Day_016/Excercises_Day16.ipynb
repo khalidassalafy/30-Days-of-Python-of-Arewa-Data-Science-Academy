{
 "cells": [
  {
   "attachments": {},
   "cell_type": "markdown",
   "metadata": {},
   "source": [
    "# Day 16"
   ]
  },
  {
   "attachments": {},
   "cell_type": "markdown",
   "metadata": {},
   "source": [
    "#### Excercise 1"
   ]
  },
  {
   "cell_type": "code",
   "execution_count": 2,
   "metadata": {},
   "outputs": [
    {
     "name": "stdout",
     "output_type": "stream",
     "text": [
      "Current date and time:  2023-02-21 20:46:44.831622\n",
      "Current day =  21\n",
      "Current month =  2\n",
      "Current year =  2023\n",
      "Current hour =  20\n",
      "Current minute =  46\n",
      "Current timestamp =  1677008804.831622\n"
     ]
    }
   ],
   "source": [
    "#Get the current day, month, year, hour, minute and timestamp from datetime module\n",
    "from datetime import datetime\n",
    "current_datetime=datetime.now()\n",
    "print('Current date and time: ',current_datetime)\n",
    "\n",
    "current_day=current_datetime.day\n",
    "current_month=current_datetime.month\n",
    "current_year=current_datetime.year\n",
    "current_hour=current_datetime.hour\n",
    "current_minute=current_datetime.minute\n",
    "current_timestamp=current_datetime.timestamp()\n",
    "\n",
    "print('Current day = ',current_day)\n",
    "print('Current month = ',current_month)\n",
    "print('Current year = ',current_year)\n",
    "print('Current hour = ',current_hour)\n",
    "print('Current minute = ',current_minute)\n",
    "print('Current timestamp = ',current_timestamp)\n"
   ]
  },
  {
   "attachments": {},
   "cell_type": "markdown",
   "metadata": {},
   "source": [
    "#### Excercise 2"
   ]
  },
  {
   "cell_type": "code",
   "execution_count": 4,
   "metadata": {},
   "outputs": [
    {
     "name": "stdout",
     "output_type": "stream",
     "text": [
      "Formatted current datetime:  02/21/2023, 20:55:01\n"
     ]
    }
   ],
   "source": [
    "#Format the current date using this format: \"%m/%d/%Y, %H:%M:%S\")\n",
    "from datetime import datetime\n",
    "current_datetime=datetime.now()\n",
    "formatted_current_datetime=current_datetime.strftime(\"%m/%d/%Y, %H:%M:%S\")\n",
    "print('Formatted current datetime: ',formatted_current_datetime,)"
   ]
  },
  {
   "attachments": {},
   "cell_type": "markdown",
   "metadata": {},
   "source": [
    "#### Excercise 3"
   ]
  },
  {
   "cell_type": "code",
   "execution_count": 10,
   "metadata": {},
   "outputs": [
    {
     "name": "stdout",
     "output_type": "stream",
     "text": [
      "Date string;  5 December, 2019\n",
      "Date object:  2019-12-05 00:00:00\n"
     ]
    }
   ],
   "source": [
    "#Today is 5 December, 2019. Change this time string to time.\n",
    "date_string='5 December, 2019'\n",
    "date_object=datetime.strptime(date_string, '%d %B, %Y')\n",
    "print('Date string; ',date_string)\n",
    "print('Date object: ',date_object)"
   ]
  },
  {
   "attachments": {},
   "cell_type": "markdown",
   "metadata": {},
   "source": [
    "#### Excercise 4"
   ]
  },
  {
   "cell_type": "code",
   "execution_count": 12,
   "metadata": {},
   "outputs": [
    {
     "name": "stdout",
     "output_type": "stream",
     "text": [
      "Time left for new year : 314 days, 0:00:00\n"
     ]
    }
   ],
   "source": [
    "#Calculate the time difference between now and new year\n",
    "from datetime import date\n",
    "date_now=date(year=2023,month=2,day=21)\n",
    "new_year=date(year=2024,month=1,day=1)\n",
    "time_left_for_new_year=new_year-date_now\n",
    "print('Time left for new year :',time_left_for_new_year)"
   ]
  },
  {
   "attachments": {},
   "cell_type": "markdown",
   "metadata": {},
   "source": [
    "#### Excercise 5"
   ]
  },
  {
   "cell_type": "code",
   "execution_count": 15,
   "metadata": {},
   "outputs": [
    {
     "name": "stdout",
     "output_type": "stream",
     "text": [
      "The time difference between 1 January 1970 and now:  19409 days, 0:00:00\n"
     ]
    }
   ],
   "source": [
    "#Calculate the time difference between 1 January 1970 and now\n",
    "from datetime import date\n",
    "date1=date(year=1970,month=1,day=1)\n",
    "date2=date(year=2023,month=2,day=21)\n",
    "diff=date2-date1\n",
    "print('The time difference between 1 January 1970 and now: ',diff)\n"
   ]
  },
  {
   "attachments": {},
   "cell_type": "markdown",
   "metadata": {},
   "source": [
    "#### Excercise 6"
   ]
  },
  {
   "cell_type": "code",
   "execution_count": 16,
   "metadata": {},
   "outputs": [],
   "source": [
    "# Think, what can you use the datetime module for?\n",
    "    #Time series analysis\n",
    "    #To get a timestamp of any activities in an application\n",
    "    #Adding posts on a blog"
   ]
  }
 ],
 "metadata": {
  "kernelspec": {
   "display_name": "Python 3",
   "language": "python",
   "name": "python3"
  },
  "language_info": {
   "codemirror_mode": {
    "name": "ipython",
    "version": 3
   },
   "file_extension": ".py",
   "mimetype": "text/x-python",
   "name": "python",
   "nbconvert_exporter": "python",
   "pygments_lexer": "ipython3",
   "version": "3.11.1"
  },
  "orig_nbformat": 4,
  "vscode": {
   "interpreter": {
    "hash": "a6c3004ce060ded9e0c076ab48db6d8cf68670c15173d9367e97ef3f186c9ed1"
   }
  }
 },
 "nbformat": 4,
 "nbformat_minor": 2
}
