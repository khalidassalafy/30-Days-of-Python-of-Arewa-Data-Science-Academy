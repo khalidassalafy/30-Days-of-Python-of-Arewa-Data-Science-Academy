{
 "cells": [
  {
   "attachments": {},
   "cell_type": "markdown",
   "metadata": {},
   "source": [
    "# Day 15: Python Error Types\n",
    "#### No Excercises to be posted!"
   ]
  }
 ],
 "metadata": {
  "kernelspec": {
   "display_name": "Python 3",
   "language": "python",
   "name": "python3"
  },
  "language_info": {
   "name": "python",
   "version": "3.10.9"
  },
  "orig_nbformat": 4,
  "vscode": {
   "interpreter": {
    "hash": "d663e20c0bde5dcd8e4b0e3b51427b8da5f7b28d98a2c35703b049830c578fc1"
   }
  }
 },
 "nbformat": 4,
 "nbformat_minor": 2
}
