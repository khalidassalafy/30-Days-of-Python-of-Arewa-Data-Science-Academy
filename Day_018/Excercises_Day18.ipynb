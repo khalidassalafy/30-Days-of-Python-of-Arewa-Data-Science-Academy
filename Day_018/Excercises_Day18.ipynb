{
 "cells": [
  {
   "attachments": {},
   "cell_type": "markdown",
   "metadata": {},
   "source": [
    "# Day 18"
   ]
  },
  {
   "attachments": {},
   "cell_type": "markdown",
   "metadata": {},
   "source": [
    "#### Excercise Level 3"
   ]
  },
  {
   "cell_type": "code",
   "execution_count": 18,
   "metadata": {},
   "outputs": [
    {
     "name": "stdout",
     "output_type": "stream",
     "text": [
      "['I', 'am', 'a', 'tea', 'cher', 'and', 'I', 'lo', 've', 'tea', 'ching', 'There', 'is', 'nothing', 'as', 'mo', 're', 'rewarding', 'as', 'educa', 'ting', 'and', 'emp', 'o', 'wering', 'peo', 'ple', 'I', 'found', 'tea', 'ching', 'm', 'o', 're', 'interesting', 'tha', 'n', 'any', 'other', 'jo', 'bs', 'Do', 'es', 'thi', 's', 'mo', 'tivate', 'yo', 'u', 'to', 'be', 'a', 'tea', 'cher']\n"
     ]
    }
   ],
   "source": [
    "import re\n",
    "sentence = '''%I $am@% a %tea@cher%, &and& I lo%#ve %tea@ching%;. There $is nothing; &as& mo@re rewarding as educa@ting &and& @emp%o@wering peo@ple. ;I found tea@ching m%o@re interesting tha@n any other %jo@bs. %Do@es thi%s mo@tivate yo@u to be a tea@cher!?'''\n",
    "#Clean the following text.\n",
    "regex_pattern=r'[A-Za-z]+'\n",
    "matches=re.findall(regex_pattern,sentence)\n",
    "\n",
    "print(matches)\n",
    "\n",
    "\n",
    "\n"
   ]
  }
 ],
 "metadata": {
  "kernelspec": {
   "display_name": "Python 3",
   "language": "python",
   "name": "python3"
  },
  "language_info": {
   "codemirror_mode": {
    "name": "ipython",
    "version": 3
   },
   "file_extension": ".py",
   "mimetype": "text/x-python",
   "name": "python",
   "nbconvert_exporter": "python",
   "pygments_lexer": "ipython3",
   "version": "3.11.1"
  },
  "orig_nbformat": 4,
  "vscode": {
   "interpreter": {
    "hash": "a6c3004ce060ded9e0c076ab48db6d8cf68670c15173d9367e97ef3f186c9ed1"
   }
  }
 },
 "nbformat": 4,
 "nbformat_minor": 2
}
