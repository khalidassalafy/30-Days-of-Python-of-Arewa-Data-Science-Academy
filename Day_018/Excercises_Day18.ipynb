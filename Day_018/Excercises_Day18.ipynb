{
 "cells": [
  {
   "attachments": {},
   "cell_type": "markdown",
   "metadata": {},
   "source": [
    "# Day 18"
   ]
  },
  {
   "attachments": {},
   "cell_type": "markdown",
   "metadata": {},
   "source": [
    "### Level 1"
   ]
  },
  {
   "attachments": {},
   "cell_type": "markdown",
   "metadata": {},
   "source": [
    "#### Excercise 1"
   ]
  },
  {
   "cell_type": "code",
   "execution_count": 11,
   "metadata": {},
   "outputs": [
    {
     "name": "stdout",
     "output_type": "stream",
     "text": [
      "[('you', 5), ('love', 4), ('can', 3), ('I', 2), ('do', 2), ('not', 2), ('what', 2), ('else', 2), ('love.', 2), ('teaching.', 1), ('If', 1), ('teaching', 1), ('Python', 1), ('if', 1), ('something', 1), ('which', 1), ('give', 1), ('all', 1), ('the', 1), ('capabilities', 1), ('to', 1), ('develop', 1), ('an', 1), ('application', 1)]\n"
     ]
    }
   ],
   "source": [
    "# What is the most frequent word in the following paragraph?\n",
    "from collections import Counter\n",
    "paragraph = 'I love teaching. If you do not love teaching what else can you love. I love Python if you do not love something which can give you all the capabilities to develop an application what else can you love.'\n",
    "\n",
    "#Let's split the string into list of words first\n",
    "split_it=paragraph.split()\n",
    "\n",
    "#Let's use counter to count it and then get the most frequent using the most_common function\n",
    "counter=Counter(split_it)\n",
    "most_fequent=counter.most_common()\n",
    "print(most_fequent)\n"
   ]
  },
  {
   "attachments": {},
   "cell_type": "markdown",
   "metadata": {},
   "source": [
    "#### Excercise 2"
   ]
  },
  {
   "cell_type": "code",
   "execution_count": 40,
   "metadata": {},
   "outputs": [
    {
     "name": "stdout",
     "output_type": "stream",
     "text": [
      "Points:  ['-12', '-4', '-3', '-1', '0', '4', '8']\n",
      "Sorted points:  [-12, -4, -3, -1, 0, 4, 8]\n",
      "Distance = 20\n"
     ]
    }
   ],
   "source": [
    "#\n",
    "import re \n",
    "txt='''The position of some particles on the horizontal x-axis are -12, -4, -3 and -1 in the negative direction,\n",
    "0 at origin, 4 and 8 in the positive direction.\n",
    "Extract these numbers from this whole text and find the distance between the two furthest particles'''\n",
    "\n",
    "points=(re.findall(r'[-+]?(?:\\d{1,3}(?:,\\d{3})+|\\d+)(?:\\.\\d+)?', txt))\n",
    "print('Points: ',points)\n",
    "\n",
    "#Let's sort first and find distance the two furthest \n",
    "int_points=[int(i) for i in points]\n",
    "sorted_points=sorted(int_points)\n",
    "print('Sorted points: ',sorted_points)\n",
    "distance=sorted_points[-1]-sorted_points[0]\n",
    "print(f'Distance = {distance}')"
   ]
  },
  {
   "attachments": {},
   "cell_type": "markdown",
   "metadata": {},
   "source": [
    "### Level 2"
   ]
  },
  {
   "cell_type": "code",
   "execution_count": 49,
   "metadata": {},
   "outputs": [
    {
     "name": "stdout",
     "output_type": "stream",
     "text": [
      "True\n",
      "False\n",
      "False\n",
      "True\n"
     ]
    }
   ],
   "source": [
    "# Write a pattern which identifies if a string is a valid python variable\n",
    "import re\n",
    " \n",
    "# Make a regular expression\n",
    "# for identify valid identifier\n",
    "regex =  r'^[a-zA-Z_]\\w*$'\n",
    "\n",
    "# Define a function for\n",
    "# identifying valid identifier\n",
    "def is_valid_variable(string):\n",
    " \n",
    "     # pass the regular expression\n",
    "     # and the string in search() method\n",
    "    if(re.search(regex, string)):\n",
    "        print(\"True\")\n",
    "         \n",
    "    else:\n",
    "        print(\"False\")\n",
    "\n",
    "#Let's call the function\n",
    "is_valid_variable('first_name') \n",
    "is_valid_variable('first-name') \n",
    "is_valid_variable('1first_name') \n",
    "is_valid_variable('firstname')\n",
    "     "
   ]
  },
  {
   "attachments": {},
   "cell_type": "markdown",
   "metadata": {},
   "source": [
    "### Level 3"
   ]
  },
  {
   "cell_type": "code",
   "execution_count": 65,
   "metadata": {},
   "outputs": [
    {
     "name": "stdout",
     "output_type": "stream",
     "text": [
      "I am a teacher, and I love teaching. There is nothing as more rewarding as educating and empowering people. I found teaching more interesting than any other jobs. Does this motivate you to be a teacher!?\n"
     ]
    },
    {
     "data": {
      "text/plain": [
       "[('I', 3), ('a', 2), ('and', 2)]"
      ]
     },
     "execution_count": 65,
     "metadata": {},
     "output_type": "execute_result"
    }
   ],
   "source": [
    "from collections import Counter\n",
    "sentence = '''%I $am@% a %tea@cher%, &and& I lo%#ve %tea@ching%;. There $is nothing; &as& mo@re rewarding as educa@ting &and& @emp%o@wering peo@ple. ;I found tea@ching m%o@re interesting tha@n any other %jo@bs. %Do@es thi%s mo@tivate yo@u to be a tea@cher!?'''\n",
    "#Clean the following text.\n",
    "#regex_pattern=r'^[A-Za-z]\\w$'\n",
    "#matches=re.findall(regex_pattern,sentence)\n",
    "#print(matches)\n",
    "REPLACEMENTS = [\n",
    "    (\"%\", \"\"),\n",
    "    (\"$\", \"\"),\n",
    "    (\"@\", \"\"),\n",
    "    (\"&\", \"\"),\n",
    "    (\"#\", \"\"),\n",
    "    (\";\", \"\"),\n",
    "]\n",
    "\n",
    "for old, new in REPLACEMENTS:\n",
    "  sentence =  sentence.replace(old, new)\n",
    "\n",
    "print(sentence)\n",
    "\n",
    "\n",
    "#count three most frequent words in the string.\n",
    "def most_frequent_words (string):\n",
    "    splitted=string.split()\n",
    "    counter=Counter(splitted)\n",
    "    most_fequent=counter.most_common(3)\n",
    "    return most_fequent\n",
    "\n",
    "most_frequent_words(sentence)\n",
    "\n",
    "\n",
    "\n"
   ]
  }
 ],
 "metadata": {
  "kernelspec": {
   "display_name": "Python 3",
   "language": "python",
   "name": "python3"
  },
  "language_info": {
   "codemirror_mode": {
    "name": "ipython",
    "version": 3
   },
   "file_extension": ".py",
   "mimetype": "text/x-python",
   "name": "python",
   "nbconvert_exporter": "python",
   "pygments_lexer": "ipython3",
   "version": "3.11.1"
  },
  "orig_nbformat": 4,
  "vscode": {
   "interpreter": {
    "hash": "a6c3004ce060ded9e0c076ab48db6d8cf68670c15173d9367e97ef3f186c9ed1"
   }
  }
 },
 "nbformat": 4,
 "nbformat_minor": 2
}
