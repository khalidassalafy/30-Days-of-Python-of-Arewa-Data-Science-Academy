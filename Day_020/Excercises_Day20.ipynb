{
 "cells": [
  {
   "attachments": {},
   "cell_type": "markdown",
   "metadata": {},
   "source": [
    "# Day 20"
   ]
  },
  {
   "attachments": {},
   "cell_type": "markdown",
   "metadata": {},
   "source": [
    "#### Excercise 1"
   ]
  },
  {
   "cell_type": "code",
   "execution_count": 4,
   "metadata": {},
   "outputs": [
    {
     "name": "stdout",
     "output_type": "stream",
     "text": [
      "<Response [200]>\n",
      "200\n",
      "{'Date': 'Wed, 01 Mar 2023 22:05:44 GMT', 'Server': 'Apache', 'Last-Modified': 'Sat, 17 Oct 2020 15:05:23 GMT', 'Accept-Ranges': 'bytes', 'Content-Length': '179410', 'Content-Type': 'text/plain'}\n"
     ]
    },
    {
     "data": {
      "text/plain": [
       "\"The most frequent words are: [('the', 762), ('I', 549), ('and', 539), ('to', 522), ('of', 485), ('a', 453), ('in', 330), ('is', 322), ('my', 310), ('with', 274)]\""
      ]
     },
     "execution_count": 4,
     "metadata": {},
     "output_type": "execute_result"
    }
   ],
   "source": [
    "# Read this url and find the 10 most frequent words. romeo_and_juliet\n",
    "\n",
    "# Let's import the requests package and estalish anetwork connection\n",
    "import requests\n",
    "from collections import Counter\n",
    "url= 'http://www.gutenberg.org/files/1112/1112.txt'\n",
    "# Opening the network and fetching data\n",
    "response=requests.get(url)\n",
    "# printing response object\n",
    "print (response)\n",
    "# response status\n",
    "print(response.status_code)\n",
    "# header\n",
    "print(response.headers)\n",
    "# fetching the text from the web page\n",
    "txt=response.text\n",
    "\n",
    "# Let's define a function to find the most frequent words\n",
    "def most_frequent(text,k):\n",
    "    words = text.split()\n",
    "    counter=Counter(words)\n",
    "    most_frequent=counter.most_common(k)\n",
    "    return f'The most frequent words are: {most_frequent}'\n",
    "\n",
    "\n",
    "#Let's get the most frequent from the text file\n",
    "most_frequent(txt,10)\n"
   ]
  },
  {
   "attachments": {},
   "cell_type": "markdown",
   "metadata": {},
   "source": [
    "#### Excercise 2i"
   ]
  },
  {
   "cell_type": "code",
   "execution_count": 14,
   "metadata": {},
   "outputs": [
    {
     "name": "stdout",
     "output_type": "stream",
     "text": [
      "<Response [200]>\n",
      "200\n",
      "[{'weight': {'imperial': '7  -  10', 'metric': '3 - 5'}, 'id': 'abys', 'name': 'Abyssinian', 'cfa_url': 'http://cfa.org/Breeds/BreedsAB/Abyssinian.aspx', 'vetstreet_url': 'http://www.vetstreet.com/cats/abyssinian', 'vcahospitals_url': 'https://vcahospitals.com/know-your-pet/cat-breeds/abyssinian', 'temperament': 'Active, Energetic, Independent, Intelligent, Gentle', 'origin': 'Egypt', 'country_codes': 'EG', 'country_code': 'EG', 'description': 'The Abyssinian is easy to care for, and a joy to have in your home. They’re affectionate cats and love both people and other animals.', 'life_span': '14 - 15', 'indoor': 0, 'lap': 1, 'alt_names': '', 'adaptability': 5, 'affection_level': 5, 'child_friendly': 3, 'dog_friendly': 4, 'energy_level': 5, 'grooming': 1, 'health_issues': 2, 'intelligence': 5, 'shedding_level': 2, 'social_needs': 5, 'stranger_friendly': 5, 'vocalisation': 1, 'experimental': 0, 'hairless': 0, 'natural': 1, 'rare': 0, 'rex': 0, 'suppressed_tail': 0, 'short_legs': 0, 'wikipedia_url': 'https://en.wikipedia.org/wiki/Abyssinian_(cat)', 'hypoallergenic': 0, 'reference_image_id': '0XYvRd7oD'}]\n",
      "\n",
      "Weights in metrics: ['3 - 5', '3 - 5', '3 - 7', '2 - 5', '4 - 7', '4 - 7', '4 - 7', '3 - 7', '2 - 5', '2 - 4']\n"
     ]
    }
   ],
   "source": [
    "# Read the cats API and find:\n",
    "# the min, max, mean, median, standard deviation of cats' weight in metric units.\n",
    "\n",
    "import requests\n",
    "cats_api = 'https://api.thecatapi.com/v1/breeds'\n",
    "# Establishing network connetion to fetch data\n",
    "response = requests.get(cats_api)\n",
    "# response object\n",
    "print(response)\n",
    "# status\n",
    "print(response.status_code)\n",
    "# Let's fetch the json data\n",
    "cats=response.json()\n",
    "# printing the first cat\n",
    "print (cats[:1])\n",
    "\n",
    "# Getting list of weights in metrics\n",
    "weights = [cat['weight'] for cat in cats ]\n",
    "#print (weights[:3])\n",
    "\n",
    "# Getting metrics weight\n",
    "weights_in_metrics = [weight['metric'] for weight in weights]\n",
    "print (\"\\nWeights in metrics:\",weights_in_metrics[:10]) # printing 10 metric weights\n"
   ]
  },
  {
   "attachments": {},
   "cell_type": "markdown",
   "metadata": {},
   "source": [
    "#### Excercise 2ii"
   ]
  },
  {
   "cell_type": "code",
   "execution_count": 16,
   "metadata": {},
   "outputs": [
    {
     "name": "stdout",
     "output_type": "stream",
     "text": [
      "<Response [200]>\n",
      "200\n",
      "['14 - 15', '9 - 12', '11 - 15', '12 - 16', '15 - 17']\n"
     ]
    }
   ],
   "source": [
    "# the min, max, mean, median, standard deviation of cats' lifespan in years.\n",
    "\n",
    "import requests\n",
    "cats_api = 'https://api.thecatapi.com/v1/breeds'\n",
    "# Establishing network connetion to fetch data\n",
    "response = requests.get(cats_api)\n",
    "# response object\n",
    "print(response)\n",
    "# status\n",
    "print(response.status_code)\n",
    "# Let's fetch the json data\n",
    "cats=response.json()\n",
    "# printing the first cat\n",
    "#print (cats[:1])\n",
    "\n",
    "# Getting list of life sapn\n",
    "life_span = [cat['life_span'] for cat in cats ]\n",
    "print (life_span[:5]) #printing first 5"
   ]
  },
  {
   "attachments": {},
   "cell_type": "markdown",
   "metadata": {},
   "source": [
    "### Excercise 3i"
   ]
  },
  {
   "cell_type": "code",
   "execution_count": null,
   "metadata": {},
   "outputs": [],
   "source": [
    "# Read the countries API and find\n",
    "# the 10 largest countries"
   ]
  }
 ],
 "metadata": {
  "kernelspec": {
   "display_name": "Python 3",
   "language": "python",
   "name": "python3"
  },
  "language_info": {
   "codemirror_mode": {
    "name": "ipython",
    "version": 3
   },
   "file_extension": ".py",
   "mimetype": "text/x-python",
   "name": "python",
   "nbconvert_exporter": "python",
   "pygments_lexer": "ipython3",
   "version": "3.11.1"
  },
  "orig_nbformat": 4,
  "vscode": {
   "interpreter": {
    "hash": "a6c3004ce060ded9e0c076ab48db6d8cf68670c15173d9367e97ef3f186c9ed1"
   }
  }
 },
 "nbformat": 4,
 "nbformat_minor": 2
}
