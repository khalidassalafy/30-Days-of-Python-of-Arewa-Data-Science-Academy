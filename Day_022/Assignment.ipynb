{
 "cells": [
  {
   "attachments": {},
   "cell_type": "markdown",
   "metadata": {},
   "source": [
    "### Scraping DailyTrust news article"
   ]
  },
  {
   "cell_type": "code",
   "execution_count": 24,
   "metadata": {},
   "outputs": [
    {
     "name": "stdout",
     "output_type": "stream",
     "text": [
      "200\n",
      "   87 days to go: Buhari races to complete legacy projects - Daily Trust\n",
      "1   Less than three months to hand over the baton ...                   \n",
      "2   The president had already inaugurated some of ...                   \n",
      "3   But President Buhari still has some projects t...                   \n",
      "4   Among them are the proposed national carrier, ...                   \n",
      "5                                         Nigeria Air                   \n",
      "..                                                ...                   \n",
      "91  Awwal Musa Rafsanjani, the executive director ...                   \n",
      "92  “We will want Bureau of Public Procurement to ...                   \n",
      "93  “So, the contractors should be made to comply ...                   \n",
      "94  Tunde Salman, the convener, Good Governance Te...                   \n",
      "95  He said, “There is a need to fast-track and pr...                   \n",
      "\n",
      "[95 rows x 1 columns]\n"
     ]
    }
   ],
   "source": [
    "import requests\n",
    "from bs4 import BeautifulSoup\n",
    "import pandas as pd\n",
    "\n",
    "url = 'https://dailytrust.com/87-days-to-go-buhari-races-to-complete-legacy-projects'\n",
    "response = requests.get(url)\n",
    "print(response.status_code)\n",
    "\n",
    "soup = BeautifulSoup(response.content,'html.parser')\n",
    "news_title = soup.title.get_text() #title\n",
    "\n",
    "# Getting all the texts in the news paragraphs\n",
    "paragaraphs = soup.find_all('p')\n",
    "list_of_paragaraphs = []\n",
    "for paragaraph in paragaraphs:\n",
    "    list_of_paragaraphs.append(paragaraph.get_text())\n",
    "\n",
    "# Storing the scraped data in a pandas dataframe\n",
    "i = range(1, len(list_of_paragaraphs)+1)\n",
    "scraped_data = pd.DataFrame({news_title:list_of_paragaraphs}, index=i)\n",
    "# let's glance at the data\n",
    "print(scraped_data)\n",
    "# If we like, we can store the content of our data frame on a text file\n",
    "scraped_data.to_csv('scraped_news.txt', sep='t')\n",
    "\n"
   ]
  }
 ],
 "metadata": {
  "kernelspec": {
   "display_name": "Python 3",
   "language": "python",
   "name": "python3"
  },
  "language_info": {
   "codemirror_mode": {
    "name": "ipython",
    "version": 3
   },
   "file_extension": ".py",
   "mimetype": "text/x-python",
   "name": "python",
   "nbconvert_exporter": "python",
   "pygments_lexer": "ipython3",
   "version": "3.11.1"
  },
  "orig_nbformat": 4
 },
 "nbformat": 4,
 "nbformat_minor": 2
}
